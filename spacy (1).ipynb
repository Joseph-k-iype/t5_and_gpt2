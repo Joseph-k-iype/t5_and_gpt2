{
  "nbformat": 4,
  "nbformat_minor": 0,
  "metadata": {
    "colab": {
      "provenance": []
    },
    "kernelspec": {
      "name": "python3",
      "display_name": "Python 3"
    },
    "language_info": {
      "name": "python"
    }
  },
  "cells": [
    {
      "cell_type": "code",
      "source": [
        "import pandas as pd\n",
        "\n",
        "# DataFrame 1: Business terms and their preferred forms\n",
        "data1 = {\n",
        "    'business_term': ['var', 'ROI', 'equity', 'profit'],\n",
        "    'business_description': [\n",
        "        'var in finance',\n",
        "        'ROI for projects',\n",
        "        'ownership in a company',\n",
        "        'net income after expenses'\n",
        "    ],\n",
        "    'preferred_business_term': ['ValueAtRisk', 'ReturnOnInvestment', 'EquityShare', 'NetProfit'],\n",
        "    'preferred_business_description': [\n",
        "        'measure of the risk of loss for investments',\n",
        "        'ratio between net profit and cost of investment',\n",
        "        'value that represents part ownership in a corporation',\n",
        "        'the amount of money that remains after all business expenses have been deducted from gross income'\n",
        "    ]\n",
        "}\n",
        "\n",
        "df1 = pd.DataFrame(data1)\n",
        "\n",
        "# DataFrame 2: Abbreviations and their full forms\n",
        "data2 = {\n",
        "    'abbreviation': ['var', 'ROI'],\n",
        "    'full_form': ['value at risk', 'return on investment']\n",
        "}\n",
        "\n",
        "df2 = pd.DataFrame(data2)\n"
      ],
      "metadata": {
        "id": "wTP5NX-JK2qH"
      },
      "execution_count": 2,
      "outputs": []
    },
    {
      "cell_type": "code",
      "source": [
        "abbreviation_dict = dict(zip(df2.abbreviation, df2.full_form))\n",
        "\n",
        "def preprocess(text):\n",
        "    # Handle abbreviations\n",
        "    for abb, full in abbreviation_dict.items():\n",
        "        text = text.replace(abb, full)\n",
        "\n",
        "    # Tokenization, lower-casing, and filtering non-alphabetic tokens\n",
        "    tokens = text.split()\n",
        "    tokens = [token.lower() for token in tokens if token.isalpha()]\n",
        "\n",
        "    return ' '.join(tokens)\n"
      ],
      "metadata": {
        "id": "GPYi4giYK4H6"
      },
      "execution_count": 3,
      "outputs": []
    },
    {
      "cell_type": "code",
      "source": [
        "!python -m spacy download en_core_web_md"
      ],
      "metadata": {
        "colab": {
          "base_uri": "https://localhost:8080/"
        },
        "id": "KIff7L9VLH7g",
        "outputId": "ec0c4bd2-4e16-48e6-e531-2cdbdff42547"
      },
      "execution_count": 4,
      "outputs": [
        {
          "output_type": "stream",
          "name": "stdout",
          "text": [
            "2023-08-26 18:14:15.550765: I tensorflow/core/platform/cpu_feature_guard.cc:182] This TensorFlow binary is optimized to use available CPU instructions in performance-critical operations.\n",
            "To enable the following instructions: AVX2 FMA, in other operations, rebuild TensorFlow with the appropriate compiler flags.\n",
            "2023-08-26 18:14:16.696285: W tensorflow/compiler/tf2tensorrt/utils/py_utils.cc:38] TF-TRT Warning: Could not find TensorRT\n",
            "Collecting en-core-web-md==3.6.0\n",
            "  Downloading https://github.com/explosion/spacy-models/releases/download/en_core_web_md-3.6.0/en_core_web_md-3.6.0-py3-none-any.whl (42.8 MB)\n",
            "\u001b[2K     \u001b[90m━━━━━━━━━━━━━━━━━━━━━━━━━━━━━━━━━━━━━━━━\u001b[0m \u001b[32m42.8/42.8 MB\u001b[0m \u001b[31m16.2 MB/s\u001b[0m eta \u001b[36m0:00:00\u001b[0m\n",
            "\u001b[?25hRequirement already satisfied: spacy<3.7.0,>=3.6.0 in /usr/local/lib/python3.10/dist-packages (from en-core-web-md==3.6.0) (3.6.1)\n",
            "Requirement already satisfied: spacy-legacy<3.1.0,>=3.0.11 in /usr/local/lib/python3.10/dist-packages (from spacy<3.7.0,>=3.6.0->en-core-web-md==3.6.0) (3.0.12)\n",
            "Requirement already satisfied: spacy-loggers<2.0.0,>=1.0.0 in /usr/local/lib/python3.10/dist-packages (from spacy<3.7.0,>=3.6.0->en-core-web-md==3.6.0) (1.0.4)\n",
            "Requirement already satisfied: murmurhash<1.1.0,>=0.28.0 in /usr/local/lib/python3.10/dist-packages (from spacy<3.7.0,>=3.6.0->en-core-web-md==3.6.0) (1.0.9)\n",
            "Requirement already satisfied: cymem<2.1.0,>=2.0.2 in /usr/local/lib/python3.10/dist-packages (from spacy<3.7.0,>=3.6.0->en-core-web-md==3.6.0) (2.0.7)\n",
            "Requirement already satisfied: preshed<3.1.0,>=3.0.2 in /usr/local/lib/python3.10/dist-packages (from spacy<3.7.0,>=3.6.0->en-core-web-md==3.6.0) (3.0.8)\n",
            "Requirement already satisfied: thinc<8.2.0,>=8.1.8 in /usr/local/lib/python3.10/dist-packages (from spacy<3.7.0,>=3.6.0->en-core-web-md==3.6.0) (8.1.12)\n",
            "Requirement already satisfied: wasabi<1.2.0,>=0.9.1 in /usr/local/lib/python3.10/dist-packages (from spacy<3.7.0,>=3.6.0->en-core-web-md==3.6.0) (1.1.2)\n",
            "Requirement already satisfied: srsly<3.0.0,>=2.4.3 in /usr/local/lib/python3.10/dist-packages (from spacy<3.7.0,>=3.6.0->en-core-web-md==3.6.0) (2.4.7)\n",
            "Requirement already satisfied: catalogue<2.1.0,>=2.0.6 in /usr/local/lib/python3.10/dist-packages (from spacy<3.7.0,>=3.6.0->en-core-web-md==3.6.0) (2.0.9)\n",
            "Requirement already satisfied: typer<0.10.0,>=0.3.0 in /usr/local/lib/python3.10/dist-packages (from spacy<3.7.0,>=3.6.0->en-core-web-md==3.6.0) (0.9.0)\n",
            "Requirement already satisfied: pathy>=0.10.0 in /usr/local/lib/python3.10/dist-packages (from spacy<3.7.0,>=3.6.0->en-core-web-md==3.6.0) (0.10.2)\n",
            "Requirement already satisfied: smart-open<7.0.0,>=5.2.1 in /usr/local/lib/python3.10/dist-packages (from spacy<3.7.0,>=3.6.0->en-core-web-md==3.6.0) (6.3.0)\n",
            "Requirement already satisfied: tqdm<5.0.0,>=4.38.0 in /usr/local/lib/python3.10/dist-packages (from spacy<3.7.0,>=3.6.0->en-core-web-md==3.6.0) (4.66.1)\n",
            "Requirement already satisfied: numpy>=1.15.0 in /usr/local/lib/python3.10/dist-packages (from spacy<3.7.0,>=3.6.0->en-core-web-md==3.6.0) (1.23.5)\n",
            "Requirement already satisfied: requests<3.0.0,>=2.13.0 in /usr/local/lib/python3.10/dist-packages (from spacy<3.7.0,>=3.6.0->en-core-web-md==3.6.0) (2.31.0)\n",
            "Requirement already satisfied: pydantic!=1.8,!=1.8.1,<3.0.0,>=1.7.4 in /usr/local/lib/python3.10/dist-packages (from spacy<3.7.0,>=3.6.0->en-core-web-md==3.6.0) (2.2.1)\n",
            "Requirement already satisfied: jinja2 in /usr/local/lib/python3.10/dist-packages (from spacy<3.7.0,>=3.6.0->en-core-web-md==3.6.0) (3.1.2)\n",
            "Requirement already satisfied: setuptools in /usr/local/lib/python3.10/dist-packages (from spacy<3.7.0,>=3.6.0->en-core-web-md==3.6.0) (67.7.2)\n",
            "Requirement already satisfied: packaging>=20.0 in /usr/local/lib/python3.10/dist-packages (from spacy<3.7.0,>=3.6.0->en-core-web-md==3.6.0) (23.1)\n",
            "Requirement already satisfied: langcodes<4.0.0,>=3.2.0 in /usr/local/lib/python3.10/dist-packages (from spacy<3.7.0,>=3.6.0->en-core-web-md==3.6.0) (3.3.0)\n",
            "Requirement already satisfied: annotated-types>=0.4.0 in /usr/local/lib/python3.10/dist-packages (from pydantic!=1.8,!=1.8.1,<3.0.0,>=1.7.4->spacy<3.7.0,>=3.6.0->en-core-web-md==3.6.0) (0.5.0)\n",
            "Requirement already satisfied: pydantic-core==2.6.1 in /usr/local/lib/python3.10/dist-packages (from pydantic!=1.8,!=1.8.1,<3.0.0,>=1.7.4->spacy<3.7.0,>=3.6.0->en-core-web-md==3.6.0) (2.6.1)\n",
            "Requirement already satisfied: typing-extensions>=4.6.1 in /usr/local/lib/python3.10/dist-packages (from pydantic!=1.8,!=1.8.1,<3.0.0,>=1.7.4->spacy<3.7.0,>=3.6.0->en-core-web-md==3.6.0) (4.7.1)\n",
            "Requirement already satisfied: charset-normalizer<4,>=2 in /usr/local/lib/python3.10/dist-packages (from requests<3.0.0,>=2.13.0->spacy<3.7.0,>=3.6.0->en-core-web-md==3.6.0) (3.2.0)\n",
            "Requirement already satisfied: idna<4,>=2.5 in /usr/local/lib/python3.10/dist-packages (from requests<3.0.0,>=2.13.0->spacy<3.7.0,>=3.6.0->en-core-web-md==3.6.0) (3.4)\n",
            "Requirement already satisfied: urllib3<3,>=1.21.1 in /usr/local/lib/python3.10/dist-packages (from requests<3.0.0,>=2.13.0->spacy<3.7.0,>=3.6.0->en-core-web-md==3.6.0) (2.0.4)\n",
            "Requirement already satisfied: certifi>=2017.4.17 in /usr/local/lib/python3.10/dist-packages (from requests<3.0.0,>=2.13.0->spacy<3.7.0,>=3.6.0->en-core-web-md==3.6.0) (2023.7.22)\n",
            "Requirement already satisfied: blis<0.8.0,>=0.7.8 in /usr/local/lib/python3.10/dist-packages (from thinc<8.2.0,>=8.1.8->spacy<3.7.0,>=3.6.0->en-core-web-md==3.6.0) (0.7.10)\n",
            "Requirement already satisfied: confection<1.0.0,>=0.0.1 in /usr/local/lib/python3.10/dist-packages (from thinc<8.2.0,>=8.1.8->spacy<3.7.0,>=3.6.0->en-core-web-md==3.6.0) (0.1.1)\n",
            "Requirement already satisfied: click<9.0.0,>=7.1.1 in /usr/local/lib/python3.10/dist-packages (from typer<0.10.0,>=0.3.0->spacy<3.7.0,>=3.6.0->en-core-web-md==3.6.0) (8.1.7)\n",
            "Requirement already satisfied: MarkupSafe>=2.0 in /usr/local/lib/python3.10/dist-packages (from jinja2->spacy<3.7.0,>=3.6.0->en-core-web-md==3.6.0) (2.1.3)\n",
            "Installing collected packages: en-core-web-md\n",
            "Successfully installed en-core-web-md-3.6.0\n",
            "\u001b[38;5;2m✔ Download and installation successful\u001b[0m\n",
            "You can now load the package via spacy.load('en_core_web_md')\n"
          ]
        }
      ]
    },
    {
      "cell_type": "code",
      "source": [
        "import spacy\n",
        "\n",
        "# Load the medium English model from Spacy\n",
        "nlp = spacy.load('en_core_web_md')\n",
        "\n",
        "def get_embedding(text):\n",
        "    return nlp(text).vector\n"
      ],
      "metadata": {
        "id": "Enh30e91K8I_"
      },
      "execution_count": 5,
      "outputs": []
    },
    {
      "cell_type": "code",
      "source": [
        "from sklearn.metrics.pairwise import cosine_similarity\n",
        "\n",
        "def get_most_similar(user_input, df):\n",
        "    user_embedding = get_embedding(preprocess(user_input))\n",
        "    similarities = []\n",
        "\n",
        "    for index, row in df.iterrows():\n",
        "        term_embedding = get_embedding(preprocess(row['preferred_business_description']))\n",
        "        sim = cosine_similarity([user_embedding], [term_embedding])[0][0]\n",
        "        similarities.append((row['preferred_business_term'], sim))\n",
        "\n",
        "    # Sort by similarity and return top 4\n",
        "    sorted_terms = sorted(similarities, key=lambda x: x[1], reverse=True)\n",
        "    return [term[0] for term in sorted_terms[:4]]\n"
      ],
      "metadata": {
        "id": "eJX9d3dsK-AP"
      },
      "execution_count": 6,
      "outputs": []
    },
    {
      "cell_type": "code",
      "source": [
        "user_input = \"What is the return for my investment project?\"\n",
        "top_terms = get_most_similar(user_input, df1)\n",
        "top_terms"
      ],
      "metadata": {
        "colab": {
          "base_uri": "https://localhost:8080/"
        },
        "id": "CpY2Aj_uLTJj",
        "outputId": "b2f828b0-c2cd-4d92-d9fd-337fc0a32a4f"
      },
      "execution_count": 7,
      "outputs": [
        {
          "output_type": "execute_result",
          "data": {
            "text/plain": [
              "['NetProfit', 'EquityShare', 'ValueAtRisk', 'ReturnOnInvestment']"
            ]
          },
          "metadata": {},
          "execution_count": 7
        }
      ]
    },
    {
      "cell_type": "code",
      "source": [
        "def get_most_similar_v2(business_term, business_description, df):\n",
        "    # Combine business term and description and get its embedding\n",
        "    user_input = business_term + \" \" + business_description\n",
        "    user_embedding = get_embedding(preprocess(user_input))\n",
        "    similarities = []\n",
        "\n",
        "    for index, row in df.iterrows():\n",
        "        # Combine preferred business term and description from the dataframe and get its embedding\n",
        "        combined_description = row['business_term'] + \" \" + row['business_description']\n",
        "        term_embedding = get_embedding(preprocess(combined_description))\n",
        "        sim = cosine_similarity([user_embedding], [term_embedding])[0][0]\n",
        "        similarities.append((row['preferred_business_term'], sim))\n",
        "\n",
        "    # Sort by similarity and return top 4\n",
        "    sorted_terms = sorted(similarities, key=lambda x: x[1], reverse=True)\n",
        "    return [term[0] for term in sorted_terms[:4]]\n",
        "\n",
        "# Testing with a user input for both business term and business description\n",
        "user_business_term = \"ROI\"\n",
        "user_business_description = \"ratio of net gain in the project\"\n",
        "top_terms_v2 = get_most_similar_v2(user_business_term, user_business_description, df1)\n",
        "top_terms_v2\n"
      ],
      "metadata": {
        "colab": {
          "base_uri": "https://localhost:8080/"
        },
        "id": "aC3WK0VZLvGa",
        "outputId": "bc4b8722-f43f-46b7-f17b-5934d216bc0f"
      },
      "execution_count": 8,
      "outputs": [
        {
          "output_type": "execute_result",
          "data": {
            "text/plain": [
              "['ReturnOnInvestment', 'EquityShare', 'ValueAtRisk', 'NetProfit']"
            ]
          },
          "metadata": {},
          "execution_count": 8
        }
      ]
    },
    {
      "cell_type": "code",
      "source": [
        "data1"
      ],
      "metadata": {
        "colab": {
          "base_uri": "https://localhost:8080/"
        },
        "id": "TTkksu4hMWuW",
        "outputId": "d5f07c75-9d57-4a6a-9dbd-a1b21f93733d"
      },
      "execution_count": 9,
      "outputs": [
        {
          "output_type": "execute_result",
          "data": {
            "text/plain": [
              "{'business_term': ['var', 'ROI', 'equity', 'profit'],\n",
              " 'business_description': ['var in finance',\n",
              "  'ROI for projects',\n",
              "  'ownership in a company',\n",
              "  'net income after expenses'],\n",
              " 'preferred_business_term': ['ValueAtRisk',\n",
              "  'ReturnOnInvestment',\n",
              "  'EquityShare',\n",
              "  'NetProfit'],\n",
              " 'preferred_business_description': ['measure of the risk of loss for investments',\n",
              "  'ratio between net profit and cost of investment',\n",
              "  'value that represents part ownership in a corporation',\n",
              "  'the amount of money that remains after all business expenses have been deducted from gross income']}"
            ]
          },
          "metadata": {},
          "execution_count": 9
        }
      ]
    },
    {
      "cell_type": "code",
      "source": [
        "\n",
        "\n",
        "# DataFrame 1: Business terms\n",
        "data_terms = {\n",
        "    'business_term': ['var', 'ROI', 'equity', 'profit'],\n",
        "    'business_description': [\n",
        "        'var in finance',\n",
        "        'ROI for projects',\n",
        "        'ownership in a company',\n",
        "        'net income after expenses'\n",
        "    ]\n",
        "}\n",
        "df_terms = pd.DataFrame(data_terms)\n",
        "\n",
        "# DataFrame 2: Preferred business terms\n",
        "data_preferred_terms = {\n",
        "    'preferred_business_term': ['ValueAtRisk', 'ReturnOnInvestment', 'EquityShare', 'NetProfit'],\n",
        "    'preferred_business_description': [\n",
        "        'measure of the risk of loss for investments',\n",
        "        'ratio between net profit and cost of investment',\n",
        "        'value that represents part ownership in a corporation',\n",
        "        'the amount of money that remains after all business expenses have been deducted from gross income'\n",
        "    ]\n",
        "}\n",
        "df_preferred_terms = pd.DataFrame(data_preferred_terms)\n",
        "\n",
        "# DataFrame 3: Abbreviations\n",
        "data_abbreviations = {\n",
        "    'abbreviation': ['var', 'ROI'],\n",
        "    'full_form': ['value at risk', 'return on investment']\n",
        "}\n",
        "df_abbreviations = pd.DataFrame(data_abbreviations)\n",
        "\n",
        "# Abbreviation dictionary from df_abbreviations\n",
        "abbreviation_dict = dict(zip(df_abbreviations.abbreviation, df_abbreviations.full_form))\n",
        "\n",
        "def preprocess(text):\n",
        "    # Handle abbreviations\n",
        "    for abb, full in abbreviation_dict.items():\n",
        "        text = text.replace(abb, full)\n",
        "    tokens = text.split()\n",
        "    tokens = [token.lower() for token in tokens if token.isalpha()]\n",
        "    return ' '.join(tokens)\n",
        "\n",
        "# Pre-compute embeddings for df_preferred_terms\n",
        "precomputed_embeddings = [get_embedding(preprocess(desc)) for desc in df_preferred_terms['preferred_business_description']]\n",
        "\n",
        "def get_most_similar_optimized_v2(business_term, business_description):\n",
        "    # Combine business term and description and get its embedding\n",
        "    user_input = business_term + \" \" + business_description\n",
        "    user_embedding = get_embedding(preprocess(user_input))\n",
        "\n",
        "    # Compute the cosine similarity in batch\n",
        "    similarities = cosine_similarity([user_embedding], precomputed_embeddings)[0]\n",
        "\n",
        "    # Pair preferred business terms with their similarities and sort them\n",
        "    sorted_terms = sorted(list(zip(df_preferred_terms['preferred_business_term'], similarities)), key=lambda x: x[1], reverse=True)\n",
        "\n",
        "    return [term[0] for term in sorted_terms[:4]]\n",
        "\n",
        "# Testing with the new approach\n",
        "user_business_term = \"ROI\"\n",
        "user_business_description = \"ratio of net gain in the project\"\n",
        "top_terms_optimized_v2 = get_most_similar_optimized_v2(user_business_term, user_business_description)\n",
        "top_terms_optimized_v2\n"
      ],
      "metadata": {
        "colab": {
          "base_uri": "https://localhost:8080/"
        },
        "id": "16YnXg-GMbCi",
        "outputId": "96f41d56-eb49-4091-87ab-d9a85c0e5a39"
      },
      "execution_count": 10,
      "outputs": [
        {
          "output_type": "execute_result",
          "data": {
            "text/plain": [
              "['ValueAtRisk', 'ReturnOnInvestment', 'NetProfit', 'EquityShare']"
            ]
          },
          "metadata": {},
          "execution_count": 10
        }
      ]
    },
    {
      "cell_type": "code",
      "source": [
        "# !pip install transformers\n",
        "# !pip install torch\n",
        "!pip install faiss-gpu"
      ],
      "metadata": {
        "colab": {
          "base_uri": "https://localhost:8080/"
        },
        "id": "auH5oWhVDPqD",
        "outputId": "9c483a5f-32a0-4fc0-914a-dd392a818ff5"
      },
      "execution_count": 3,
      "outputs": [
        {
          "output_type": "stream",
          "name": "stdout",
          "text": [
            "Collecting faiss-gpu\n",
            "  Downloading faiss_gpu-1.7.2-cp310-cp310-manylinux_2_17_x86_64.manylinux2014_x86_64.whl (85.5 MB)\n",
            "\u001b[2K     \u001b[90m━━━━━━━━━━━━━━━━━━━━━━━━━━━━━━━━━━━━━━━━\u001b[0m \u001b[32m85.5/85.5 MB\u001b[0m \u001b[31m5.5 MB/s\u001b[0m eta \u001b[36m0:00:00\u001b[0m\n",
            "\u001b[?25hInstalling collected packages: faiss-gpu\n",
            "Successfully installed faiss-gpu-1.7.2\n"
          ]
        }
      ]
    },
    {
      "cell_type": "code",
      "source": [
        "import numpy as np\n",
        "import pandas as pd\n",
        "import faiss\n",
        "from transformers import BertTokenizer, BertModel\n",
        "import torch\n",
        "\n",
        "# Define the three dataframes\n",
        "\n",
        "# Mock data for df_terms\n",
        "data_terms = {\n",
        "    'business_term': ['var', 'ROI', 'equity', 'profit'],\n",
        "    'business_description': [\n",
        "        'var in finance',\n",
        "        'ROI for projects',\n",
        "        'ownership in a company',\n",
        "        'net income after expenses'\n",
        "    ]\n",
        "}\n",
        "df_terms = pd.DataFrame(data_terms)\n",
        "\n",
        "# Mock data for df_preferred_terms\n",
        "data_preferred_terms = {\n",
        "    'preferred_business_term': ['ValueAtRisk', 'ReturnOnInvestment', 'EquityShare', 'NetProfit', 'aojsdsd'],\n",
        "    'preferred_business_description': [\n",
        "        'measure of the risk of loss for investments',\n",
        "        'ratio between net profit and cost of investment',\n",
        "        'value that represents part ownership in a corporation',\n",
        "        'the amount of money that remains after all business expenses have been deducted from gross income',\n",
        "        'oeijsdfds'\n",
        "    ]\n",
        "}\n",
        "df_preferred_terms = pd.DataFrame(data_preferred_terms)\n",
        "\n",
        "# Mock data for df_abbreviations\n",
        "data_abbreviations = {\n",
        "    'abbreviation': ['var', 'ROI'],\n",
        "    'full_form': ['value at risk', 'return on investment']\n",
        "}\n",
        "df_abbreviations = pd.DataFrame(data_abbreviations)\n",
        "\n",
        "# Preprocessing: Abbreviation expansion\n",
        "abbreviation_dict = dict(zip(df_abbreviations.abbreviation, df_abbreviations.full_form))\n",
        "\n",
        "def preprocess(text):\n",
        "    for abb, full in abbreviation_dict.items():\n",
        "        text = text.replace(abb, full)\n",
        "    return text\n",
        "\n",
        "# Initialize BERT model and tokenizer\n",
        "model = BertModel.from_pretrained('bert-base-uncased', return_dict=True)\n",
        "tokenizer = BertTokenizer.from_pretrained('bert-base-uncased')\n",
        "\n",
        "# Function to get BERT embeddings\n",
        "def get_bert_embedding(text):\n",
        "    inputs = tokenizer(text, return_tensors=\"pt\", truncation=True, padding=True, max_length=128)\n",
        "    with torch.no_grad():\n",
        "        outputs = model(**inputs)\n",
        "    return outputs['pooler_output'].numpy()\n",
        "\n",
        "# Precompute embeddings for df_preferred_terms\n",
        "embeddings = []\n",
        "for _, row in df_preferred_terms.iterrows():\n",
        "    term_embedding = get_bert_embedding(preprocess(row['preferred_business_term']))\n",
        "    desc_embedding = get_bert_embedding(preprocess(row['preferred_business_description']))\n",
        "    combined_embedding = (term_embedding + desc_embedding) / 2.0\n",
        "    embeddings.append(combined_embedding.squeeze())\n",
        "\n",
        "# Convert embeddings list to a matrix\n",
        "embedding_matrix = np.vstack(embeddings)\n",
        "\n",
        "# Build a Faiss index\n",
        "index = faiss.IndexFlatL2(embedding_matrix.shape[1])\n",
        "index.add(embedding_matrix.astype('float32'))\n",
        "\n",
        "# Enhanced search function\n",
        "def enhanced_search(business_term, business_description, top_k=4):\n",
        "    term_embedding = get_bert_embedding(preprocess(business_term))\n",
        "    desc_embedding = get_bert_embedding(preprocess(business_description))\n",
        "    query_embedding = ((term_embedding + desc_embedding) / 2.0).astype('float32')\n",
        "    D, I = index.search(query_embedding, top_k)\n",
        "    return [df_preferred_terms.iloc[i]['preferred_business_term'] for i in I[0]]\n",
        "\n",
        "# Testing the enhanced search\n",
        "user_business_term = \"ROI\"\n",
        "user_business_description = \"ratio of net gain in the project\"\n",
        "top_preferred_terms = enhanced_search(user_business_term, user_business_description)\n",
        "top_preferred_terms\n"
      ],
      "metadata": {
        "colab": {
          "base_uri": "https://localhost:8080/"
        },
        "id": "lyvGTPFTkKM4",
        "outputId": "b725554b-ae74-4173-99c1-768a03ef1f7c"
      },
      "execution_count": 5,
      "outputs": [
        {
          "output_type": "execute_result",
          "data": {
            "text/plain": [
              "['NetProfit', 'EquityShare', 'ValueAtRisk', 'ReturnOnInvestment']"
            ]
          },
          "metadata": {},
          "execution_count": 5
        }
      ]
    },
    {
      "cell_type": "code",
      "source": [
        "['ValueAtRisk', 'ReturnOnInvestment', 'NetProfit', 'EquityShare']\n"
      ],
      "metadata": {
        "id": "2sr3mwpWkZtj"
      },
      "execution_count": null,
      "outputs": []
    }
  ]
}